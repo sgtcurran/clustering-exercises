{
 "cells": [
  {
   "cell_type": "code",
   "execution_count": 67,
   "metadata": {},
   "outputs": [],
   "source": [
    "import pandas as pd\n",
    "import numpy as np\n",
    "import matplotlib.pyplot as plt\n",
    "import seaborn as sns\n",
    "import os\n",
    "import acquire\n",
    "import datatile\n",
    "import wrangle\n",
    "from sklearn.model_selection import train_test_split, GridSearchCV\n",
    "\n",
    "import pandas as pd\n",
    "import env\n",
    "import acquire\n",
    "\n",
    "from scipy import stats\n",
    "from yellowbrick.features import JointPlotVisualizer\n",
    "from yellowbrick.model_selection import FeatureImportances\n",
    "from yellowbrick.regressor import PredictionError\n",
    "from sklearn.neural_network import MLPRegressor\n",
    "from sklearn.linear_model import LinearRegression, Ridge\n",
    "from sklearn.tree import DecisionTreeRegressor\n",
    "from sklearn.metrics import mean_squared_error, r2_score\n",
    "import math\n"
   ]
  },
  {
   "cell_type": "code",
   "execution_count": 68,
   "metadata": {},
   "outputs": [
    {
     "name": "stdout",
     "output_type": "stream",
     "text": [
      "Reading from csv file...\n"
     ]
    }
   ],
   "source": [
    "df = acquire.get_zillow_all() "
   ]
  },
  {
   "cell_type": "code",
   "execution_count": 69,
   "metadata": {},
   "outputs": [
    {
     "data": {
      "text/plain": [
       "(52319, 68)"
      ]
     },
     "execution_count": 69,
     "metadata": {},
     "output_type": "execute_result"
    }
   ],
   "source": [
    "df.shape"
   ]
  },
  {
   "cell_type": "code",
   "execution_count": 70,
   "metadata": {},
   "outputs": [
    {
     "data": {
      "text/plain": [
       "id                              0\n",
       "parcelid                        0\n",
       "airconditioningtypeid       38704\n",
       "architecturalstyletypeid    52249\n",
       "basementsqft                52272\n",
       "                            ...  \n",
       "buildingclassdesc           52319\n",
       "heatingorsystemdesc         18470\n",
       "propertylandusedesc             0\n",
       "storydesc                   52272\n",
       "typeconstructiondesc        52243\n",
       "Length: 68, dtype: int64"
      ]
     },
     "execution_count": 70,
     "metadata": {},
     "output_type": "execute_result"
    }
   ],
   "source": [
    "df.isnull().sum()"
   ]
  },
  {
   "cell_type": "code",
   "execution_count": 71,
   "metadata": {},
   "outputs": [
    {
     "data": {
      "text/plain": [
       "Index(['id', 'parcelid', 'airconditioningtypeid', 'architecturalstyletypeid',\n",
       "       'basementsqft', 'bathroomcnt', 'bedroomcnt', 'buildingclasstypeid',\n",
       "       'buildingqualitytypeid', 'calculatedbathnbr', 'decktypeid',\n",
       "       'finishedfloor1squarefeet', 'calculatedfinishedsquarefeet',\n",
       "       'finishedsquarefeet12', 'finishedsquarefeet13', 'finishedsquarefeet15',\n",
       "       'finishedsquarefeet50', 'finishedsquarefeet6', 'fips', 'fireplacecnt',\n",
       "       'fullbathcnt', 'garagecarcnt', 'garagetotalsqft', 'hashottuborspa',\n",
       "       'heatingorsystemtypeid', 'latitude', 'longitude', 'lotsizesquarefeet',\n",
       "       'poolcnt', 'poolsizesum', 'pooltypeid10', 'pooltypeid2', 'pooltypeid7',\n",
       "       'propertycountylandusecode', 'propertylandusetypeid',\n",
       "       'propertyzoningdesc', 'rawcensustractandblock', 'regionidcity',\n",
       "       'regionidcounty', 'regionidneighborhood', 'regionidzip', 'roomcnt',\n",
       "       'storytypeid', 'threequarterbathnbr', 'typeconstructiontypeid',\n",
       "       'unitcnt', 'yardbuildingsqft17', 'yardbuildingsqft26', 'yearbuilt',\n",
       "       'numberofstories', 'fireplaceflag', 'structuretaxvaluedollarcnt',\n",
       "       'taxvaluedollarcnt', 'assessmentyear', 'landtaxvaluedollarcnt',\n",
       "       'taxamount', 'taxdelinquencyflag', 'taxdelinquencyyear',\n",
       "       'censustractandblock', 'logerror', 'transactiondate',\n",
       "       'airconditioningdesc', 'architecturalstyledesc', 'buildingclassdesc',\n",
       "       'heatingorsystemdesc', 'propertylandusedesc', 'storydesc',\n",
       "       'typeconstructiondesc'],\n",
       "      dtype='object')"
      ]
     },
     "execution_count": 71,
     "metadata": {},
     "output_type": "execute_result"
    }
   ],
   "source": [
    "df.columns"
   ]
  },
  {
   "cell_type": "code",
   "execution_count": 72,
   "metadata": {},
   "outputs": [],
   "source": [
    "df_prep = df.copy(deep=True)"
   ]
  },
  {
   "cell_type": "code",
   "execution_count": 73,
   "metadata": {},
   "outputs": [
    {
     "data": {
      "text/plain": [
       "0.0"
      ]
     },
     "execution_count": 73,
     "metadata": {},
     "output_type": "execute_result"
    }
   ],
   "source": [
    "0/1"
   ]
  },
  {
   "cell_type": "code",
   "execution_count": 74,
   "metadata": {},
   "outputs": [],
   "source": [
    "def wrangle_zillow(df_prep):\n",
    "    \"\"\"\n",
    "    Converts NaN values in bathroom/bedrooms/pool,pool w/hot tube/spa, has spa/hot tub to value 0, replace\n",
    "    air & heating with correct values and impute with NaN to most frequent value, drop top four outliers in taxvalue,\n",
    "    drops rows with NaN values, convert fips code to county and rename column to county, rename all columns for readablity,\n",
    "    splits data using sklean.train_test_split. \n",
    "    \n",
    "\n",
    "    Returns:\n",
    "    train, validat, test\n",
    "    \n",
    "    \"\"\"\n",
    "    # Since there is not a good way to calulate missing values regarding bedrooms & bathrooms and there are\n",
    "    # only 137 values total I will be converting them to np.NaN using the replace function.\n",
    "    bed_bath_0_columns = ['bedroomcnt', 'bathroomcnt']\n",
    "    df_prep[bed_bath_0_columns] = df_prep[bed_bath_0_columns].replace(0, np.NaN)\n",
    "    df_prep = df_prep.reset_index(drop=True)\n",
    "    # The NaN values in fireplaces, num_pool, pool_w_spa_or_hottub, has_hottub_or_spa, and garage_cars are mostly 0 will be   \n",
    "    # using the replace function and replacing the NaN values. \n",
    "    fire_garge_pool_0_columns = ['poolcnt','pooltypeid2','hashottuborspa', 'fireplacecnt','garagecarcnt', \n",
    "                                'threequarterbathnbr', 'garagetotalsqft', 'taxdelinquencyflag', 'basementsqft',\n",
    "                                'poolsizesum', 'pooltypeid10']\n",
    "    df_prep[fire_garge_pool_0_columns] = df_prep[fire_garge_pool_0_columns].replace(np.NaN, 0)\n",
    "    df_prep = df_prep.reset_index(drop=True)\n",
    "\n",
    "    # replace value 5 with 0 since 5 = no a/c replace value 13 with 1 since 13 = a/c yes\n",
    "    df_prep.airconditioningtypeid.replace(5, 0, inplace=True) # No AC   \n",
    "    df_prep.airconditioningtypeid.replace(13, 1, inplace=True) # Central AC\n",
    "\n",
    "    # replace value 13 with 0 since 13 = no heating and replace NaN with most frequent value\n",
    "    df_prep.heatingorsystemtypeid.replace(13, 0, inplace=True) # no heat\n",
    "    df_prep.heatingorsystemtypeid.replace(np.NaN, 2, inplace=True) # replace nan with 2 most frequent value \n",
    "\n",
    "    # replace NaN value with most frequent value 1\n",
    "    df_prep.airconditioningtypeid.replace(np.NaN, 1, inplace=True) # Central AC    \n",
    "\n",
    "    # drop columns \n",
    "    df_prep = df_prep.drop(columns=['calculatedbathnbr', 'finishedfloor1squarefeet','finishedsquarefeet12', \n",
    "                                    'regionidcity', 'landtaxvaluedollarcnt', 'taxamount', 'rawcensustractandblock',\n",
    "                                    'architecturalstyletypeid', 'buildingclasstypeid', 'decktypeid','finishedsquarefeet13',\n",
    "                                    'finishedsquarefeet15', 'finishedsquarefeet50', 'finishedsquarefeet6', 'pooltypeid7',\n",
    "                                    'storytypeid', 'typeconstructiontypeid', 'yardbuildingsqft17', 'yardbuildingsqft26', 'fireplaceflag',\n",
    "                                    'airconditioningdesc', 'propertyzoningdesc', 'regionidneighborhood', 'taxdelinquencyyear','architecturalstyledesc',\n",
    "                                    'buildingclassdesc','heatingorsystemdesc', 'storydesc', 'typeconstructiondesc', 'numberofstories', 'unitcnt'])\n",
    "\n",
    "    # to make it easier to read and improve visualization I will be renameing the columns using the rename function\n",
    "    df_prep = df_prep.rename(columns={'bedroomcnt':'bedrooms', 'bathroomcnt':'bathrooms', 'calculatedfinishedsquarefeet':'sqft_living',\n",
    "    'poolcnt':'num_pools', 'pooltypeid2':'pool_w_spa_or_hottub','hashottuborspa':'has_hottub_or_spa' ,'fireplacecnt':'fireplaces', \n",
    "    'garagecarcnt':'garage_cars', 'airconditioningtypeid':'ac_type','heatingorsystemtypeid':'heating_type' ,'yearbuilt':'year_built', 'lotsizesquarefeet':'sqft_lot', \n",
    "    'latitude':'lat', 'longitude':'long', 'regionidcounty':'countyid', 'regionidzip':'zip', 'fips':'fips','taxvaluedollarcnt': 'taxvalue'}\n",
    "    )\n",
    "\n",
    "    df_prep['buildingqualitytypeid'] = df_prep.buildingqualitytypeid.replace(np.NaN, df_prep.buildingqualitytypeid.mean())\n",
    "\n",
    "    # drop all rows with NaN values\n",
    "    df_prep = df_prep.dropna(axis=0)\n",
    "    df_prep = df_prep.reset_index(drop=True)\n",
    "\n",
    "    # drop the top 4 upper outliers in taxvalue\n",
    "    #df_prep.drop([2874,8881,11695,6787], axis=0, inplace=True)\n",
    "\n",
    "    # convert fips to county \n",
    "    #df_prep['fips'] = df_prep['fips'].replace(6111.0, 'Ventura, CA')\n",
    "    #df_prep['fips'] = df_prep['fips'].replace(6059.0, 'Orange, CA')\n",
    "    #df_prep['fips'] = df_prep['fips'].replace(6037.0, 'Los Angeles, CA')\n",
    "\n",
    "    # drop countyid & long/lat columns\n",
    "    df_prep.drop(columns=['countyid'], inplace=True)\n",
    "    df_prep.drop(columns=['long'], inplace=True)\n",
    "    df_prep.drop(columns=['lat'], inplace=True)\n",
    "\n",
    "    # rename fips to county\n",
    "    #df_prep = df_prep.rename(columns={'fips':'county'})\n",
    "\n",
    "    #change categorical features to categorical dtype\n",
    "        \n",
    "    return df_prep\n",
    "    "
   ]
  },
  {
   "cell_type": "code",
   "execution_count": 75,
   "metadata": {},
   "outputs": [],
   "source": [
    "df_prep=wrangle_zillow(df_prep)"
   ]
  },
  {
   "cell_type": "code",
   "execution_count": 76,
   "metadata": {},
   "outputs": [
    {
     "data": {
      "text/plain": [
       "(51644, 34)"
      ]
     },
     "execution_count": 76,
     "metadata": {},
     "output_type": "execute_result"
    }
   ],
   "source": [
    "df_prep.shape"
   ]
  },
  {
   "cell_type": "code",
   "execution_count": 77,
   "metadata": {},
   "outputs": [],
   "source": [
    "train_validate, test = train_test_split(df_prep, test_size=0.2, random_state=123)\n",
    "train, validate = train_test_split(train_validate, test_size=0.3, random_state=123)"
   ]
  },
  {
   "cell_type": "code",
   "execution_count": 78,
   "metadata": {},
   "outputs": [
    {
     "data": {
      "text/plain": [
       "Index(['id', 'parcelid', 'ac_type', 'basementsqft', 'bathrooms', 'bedrooms',\n",
       "       'buildingqualitytypeid', 'sqft_living', 'fips', 'fireplaces',\n",
       "       'fullbathcnt', 'garage_cars', 'garagetotalsqft', 'has_hottub_or_spa',\n",
       "       'heating_type', 'sqft_lot', 'num_pools', 'poolsizesum', 'pooltypeid10',\n",
       "       'pool_w_spa_or_hottub', 'propertycountylandusecode',\n",
       "       'propertylandusetypeid', 'zip', 'roomcnt', 'threequarterbathnbr',\n",
       "       'year_built', 'structuretaxvaluedollarcnt', 'taxvalue',\n",
       "       'assessmentyear', 'taxdelinquencyflag', 'censustractandblock',\n",
       "       'logerror', 'transactiondate', 'propertylandusedesc'],\n",
       "      dtype='object')"
      ]
     },
     "execution_count": 78,
     "metadata": {},
     "output_type": "execute_result"
    }
   ],
   "source": [
    "train.columns"
   ]
  },
  {
   "cell_type": "code",
   "execution_count": 80,
   "metadata": {},
   "outputs": [
    {
     "data": {
      "text/plain": [
       "Index(['id', 'parcelid', 'ac_type', 'basementsqft', 'bathrooms', 'bedrooms',\n",
       "       'buildingqualitytypeid', 'sqft_living', 'fips', 'fireplaces',\n",
       "       'fullbathcnt', 'garage_cars', 'garagetotalsqft', 'has_hottub_or_spa',\n",
       "       'heating_type', 'sqft_lot', 'num_pools', 'poolsizesum', 'pooltypeid10',\n",
       "       'pool_w_spa_or_hottub', 'propertycountylandusecode',\n",
       "       'propertylandusetypeid', 'zip', 'roomcnt', 'threequarterbathnbr',\n",
       "       'year_built', 'structuretaxvaluedollarcnt', 'taxvalue',\n",
       "       'assessmentyear', 'taxdelinquencyflag', 'censustractandblock',\n",
       "       'logerror', 'transactiondate', 'propertylandusedesc'],\n",
       "      dtype='object')"
      ]
     },
     "execution_count": 80,
     "metadata": {},
     "output_type": "execute_result"
    }
   ],
   "source": [
    "train.columns"
   ]
  },
  {
   "cell_type": "markdown",
   "metadata": {},
   "source": [
    "# Is there a corr. between logerror and year built?"
   ]
  },
  {
   "cell_type": "markdown",
   "metadata": {},
   "source": [
    "# HO: No linear difference between logerror for properties in year built\n",
    "# H1: linear difference in logerror for properties in year built"
   ]
  },
  {
   "cell_type": "markdown",
   "metadata": {},
   "source": [
    "Alpha 0.05"
   ]
  },
  {
   "cell_type": "code",
   "execution_count": 94,
   "metadata": {},
   "outputs": [
    {
     "data": {
      "image/png": "[encoded data removed]",
      "text/plain": [
       "<Figure size 576x396 with 3 Axes>"
      ]
     },
     "metadata": {},
     "output_type": "display_data"
    },
    {
     "name": "stdout",
     "output_type": "stream",
     "text": [
      "r = 0.0285, p = 0.0000\n"
     ]
    }
   ],
   "source": [
    "# Visualize using yellowbrick library & statsmodels\n",
    "visualizer = JointPlotVisualizer(columns=['logerror', 'year_built'], line_kws={'color': 'red'})\n",
    "visualizer.fit_transform(train)\n",
    "visualizer.show()\n",
    "r, p = stats.pearsonr(train.year_built, train.logerror)\n",
    "print(f'r = {r:.4f}, p = {p:.4f}')"
   ]
  },
  {
   "cell_type": "markdown",
   "metadata": {},
   "source": [
    "# H0 = 'No significant difference in logerror for properties in LA County vs Orange County vs Ventura County'\n",
    "# H1 = 'Significant difference in logerror for properties in LA County vs Orange County vs Ventura County'"
   ]
  },
  {
   "cell_type": "code",
   "execution_count": 95,
   "metadata": {},
   "outputs": [
    {
     "data": {
      "image/png": "[encoded data removed]",
      "text/plain": [
       "<Figure size 576x396 with 3 Axes>"
      ]
     },
     "metadata": {},
     "output_type": "display_data"
    },
    {
     "name": "stdout",
     "output_type": "stream",
     "text": [
      "r = 0.0122, p = 0.0378\n"
     ]
    }
   ],
   "source": [
    "# Visualize using yellowbrick library & statsmodels\n",
    "visualizer = JointPlotVisualizer(columns=['logerror', 'fips'], line_kws={'color': 'red'})\n",
    "visualizer.fit_transform(train)\n",
    "visualizer.show()\n",
    "r, p = stats.pearsonr(train.fips, train.logerror)\n",
    "print(f'r = {r:.4f}, p = {p:.4f}')"
   ]
  },
  {
   "cell_type": "markdown",
   "metadata": {},
   "source": [
    "# ANOVA"
   ]
  },
  {
   "cell_type": "code",
   "execution_count": 101,
   "metadata": {},
   "outputs": [
    {
     "data": {
      "text/plain": [
       "(18.197980279417205, 1.2638254279814151e-08)"
      ]
     },
     "execution_count": 101,
     "metadata": {},
     "output_type": "execute_result"
    }
   ],
   "source": [
    "α = 0.05\n",
    "F, p = stats.f_oneway(train.logerror[train.fips == 6111], train.logerror[train.fips == 6037], train.logerror[train.fips == 6059])\n",
    "F, p\n",
    "\n"
   ]
  },
  {
   "cell_type": "code",
   "execution_count": 98,
   "metadata": {},
   "outputs": [
    {
     "name": "stdout",
     "output_type": "stream",
     "text": [
      "We reject the null hypothesis that No significant difference in logerror for properties in LA County vs Orange County vs Ventura County\n"
     ]
    }
   ],
   "source": [
    "null_hypothesis = 'No significant difference in logerror for properties in LA County vs Orange County vs Ventura County'\n",
    "\n",
    "if p > α:\n",
    "    print(\"We fail to reject the null hypothesis. The null hypothesis is that\", null_hypothesis)\n",
    "else:\n",
    "    print(\"We reject the null hypothesis that\", null_hypothesis)"
   ]
  },
  {
   "cell_type": "code",
   "execution_count": 99,
   "metadata": {},
   "outputs": [
    {
     "name": "stdout",
     "output_type": "stream",
     "text": [
      "equal variances\n"
     ]
    },
    {
     "data": {
      "text/plain": [
       "(20.26970203787779, 1.5964123229062909e-09)"
      ]
     },
     "execution_count": 99,
     "metadata": {},
     "output_type": "execute_result"
    }
   ],
   "source": [
    "fips1 = train[train.fips == train.fips.unique()[0]]\n",
    "fips2 = train[train.fips == train.fips.unique()[1]]\n",
    "fips3 = train[train.fips == train.fips.unique()[2]]\n",
    "stat, p\n",
    "alpha = .05\n",
    "stat, p = stats.levene(fips1.logerror, fips2.logerror, fips3.logerror)\n",
    "if p < alpha:\n",
    "    print('equal variances')\n",
    "else: print('unequal variances')\n",
    "stat, p"
   ]
  },
  {
   "cell_type": "code",
   "execution_count": null,
   "metadata": {},
   "outputs": [],
   "source": [
    "for i, fips_c in enumerate(train.fips.unique()):\n",
    "    fips = train[train.fips == fips_c]\n",
    "    sns.histplot(fips.logerror)\n",
    "    plt.show()"
   ]
  }
 ],
 "metadata": {
  "interpreter": {
   "hash": "d4254dfede92ed85b1e7effbb0ae0c06b8ef5710a6a6be3bdd84af0ac16bdfc5"
  },
  "kernelspec": {
   "display_name": "Python 3.9.12 ('codeup')",
   "language": "python",
   "name": "python3"
  },
  "language_info": {
   "codemirror_mode": {
    "name": "ipython",
    "version": 3
   },
   "file_extension": ".py",
   "mimetype": "text/x-python",
   "name": "python",
   "nbconvert_exporter": "python",
   "pygments_lexer": "ipython3",
   "version": "3.9.12"
  },
  "orig_nbformat": 4
 },
 "nbformat": 4,
 "nbformat_minor": 2
}
